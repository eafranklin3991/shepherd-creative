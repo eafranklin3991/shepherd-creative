{
 "cells": [
  {
   "cell_type": "code",
   "execution_count": 30,
   "metadata": {},
   "outputs": [],
   "source": [
    "# load packages\n",
    "import os\n",
    "import time\n",
    "import random\n",
    "import urllib.parse\n",
    "import pandas as pd\n",
    "from selenium import webdriver\n",
    "from selenium.webdriver.common.by import By\n",
    "from selenium.webdriver.chrome.service import Service\n",
    "from selenium.webdriver.chrome.options import Options\n",
    "from selenium.webdriver.common.keys import Keys\n",
    "from selenium.webdriver.common.action_chains import ActionChains\n",
    "from selenium.webdriver.support.ui import WebDriverWait\n",
    "from selenium.webdriver.support import expected_conditions as EC\n",
    "from selenium.common.exceptions import NoSuchElementException"
   ]
  },
  {
   "cell_type": "code",
   "execution_count": 31,
   "metadata": {},
   "outputs": [],
   "source": [
    "# set working directory\n",
    "os.chdir(\"C:/Users/eafra/Documents/The Shepherd Films\")"
   ]
  },
  {
   "cell_type": "code",
   "execution_count": 32,
   "metadata": {},
   "outputs": [],
   "source": [
    "# set search terms\n",
    "search_terms = \"car detailing atlanta\""
   ]
  },
  {
   "cell_type": "code",
   "execution_count": 33,
   "metadata": {},
   "outputs": [],
   "source": [
    "# set driver options\n",
    "options = Options()\n",
    "options.add_argument(\"--start-maximized\")\n",
    "\n",
    "# specify path to chromedriver\n",
    "service = Service(\"C:/Users/eafra/Documents/drivers/chromedriver.exe\")\n",
    "\n",
    "# load driver using Service object\n",
    "driver = webdriver.Chrome(service=service, options=options)\n",
    "\n",
    "# load webpage\n",
    "driver.get(f\"https://www.google.com/maps/search/{urllib.parse.quote(search_terms)}/\")\n",
    "\n",
    "# wait for webpage to load and locate side container\n",
    "results_pane = driver.find_element(By.CSS_SELECTOR, f\"div[aria-label='Results for {search_terms}']\")\n",
    "\n",
    "# scroll to make all results appear\n",
    "keep_scrolling = True\n",
    "\n",
    "while(keep_scrolling):\n",
    "    results_pane.send_keys(Keys.PAGE_DOWN)\n",
    "    time.sleep(0.5)\n",
    "    html = driver.find_element(By.TAG_NAME, \"html\").get_attribute(\"outerHTML\")\n",
    "    if(html.find(\"You've reached the end of the list.\") != -1):\n",
    "        keep_scrolling = False\n",
    "\n",
    "# click the back to the top button\n",
    "back_to_top_button = driver.find_element(By.XPATH, '//*[@id=\"QA0Szd\"]/div/div/div[1]/div[2]/div/div[1]/div/div/div[2]/div/button')\n",
    "\n",
    "back_to_top_button.click()\n",
    "\n",
    "# get all profile elements\n",
    "profiles = WebDriverWait(driver, 10).until(\n",
    "    EC.presence_of_all_elements_located((By.CLASS_NAME, \"hfpxzc\"))\n",
    ")\n",
    "\n",
    "# get number of profiles\n",
    "num_profiles = len(profiles)\n",
    "\n",
    "# create empty list\n",
    "rows = []\n",
    "\n",
    "# get business names, urls, and descriptions in a loop\n",
    "for i in range(num_profiles):\n",
    "\n",
    "    # get business name\n",
    "    name = profiles[i].get_attribute('aria-label')\n",
    "\n",
    "    # scroll to profile and click on it\n",
    "    action = ActionChains(driver)\n",
    "    action.move_to_element(profiles[i]).click().perform()\n",
    "    \n",
    "    # get url\n",
    "    time.sleep(random.uniform(2, 5))\n",
    "    try:\n",
    "        url_element = driver.find_element(By.CSS_SELECTOR, \"a[class='CsEnBe'][data-tooltip='Open website']\")\n",
    "        url = url_element.get_attribute('href')\n",
    "        \n",
    "    except NoSuchElementException:\n",
    "        url = \"no website found\"\n",
    "    \n",
    "    # get description\n",
    "    time.sleep(random.uniform(2, 5))\n",
    "    description = WebDriverWait(driver, 10).until(\n",
    "        EC.presence_of_element_located((By.CSS_SELECTOR, \"button[class='DkEaL ']\"))\n",
    "        ).text\n",
    "    \n",
    "    # collect data\n",
    "    rows.append({\"name\": name, \"url\": url, \"description\": description})\n",
    "\n",
    "# create data frame once all rows are collected\n",
    "df = pd.DataFrame(rows)\n",
    "\n",
    "# close browser session\n",
    "driver.quit()"
   ]
  },
  {
   "cell_type": "code",
   "execution_count": 34,
   "metadata": {},
   "outputs": [],
   "source": [
    "# export to csv file\n",
    "df.to_csv(search_terms + \".csv\", index = False)"
   ]
  }
 ],
 "metadata": {
  "kernelspec": {
   "display_name": "Python 3",
   "language": "python",
   "name": "python3"
  },
  "language_info": {
   "codemirror_mode": {
    "name": "ipython",
    "version": 3
   },
   "file_extension": ".py",
   "mimetype": "text/x-python",
   "name": "python",
   "nbconvert_exporter": "python",
   "pygments_lexer": "ipython3",
   "version": "3.10.4"
  }
 },
 "nbformat": 4,
 "nbformat_minor": 2
}
